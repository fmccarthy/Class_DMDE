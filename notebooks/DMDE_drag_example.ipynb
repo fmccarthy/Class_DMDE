{
 "cells": [
  {
   "cell_type": "code",
   "execution_count": 1,
   "id": "a690a0c4-dd29-4400-b481-8aa8c0a6912d",
   "metadata": {},
   "outputs": [],
   "source": [
    "from classy import Class\n",
    "import numpy as np\n"
   ]
  },
  {
   "cell_type": "code",
   "execution_count": 2,
   "id": "f17aed4b-e441-4a8d-80e6-2a92633785ed",
   "metadata": {},
   "outputs": [],
   "source": [
    "common_settings = {# LambdaCDM parameters/theta\n",
    "\n",
    "                   '100*theta_s': 1.040909,\n",
    "                   'omega_b':0.022383,\n",
    "'A_s':2.633707534927039e-09,\n",
    "    'Omega_m': 0.3138,#0.3139,\n",
    "    #        'sigma8':0.773/np.sqrt((0.3144/0.3)),\n",
    "\n",
    "    'n_s':0.96605,\n",
    "    'tau_reio':0.0543,\n",
    "\n",
    "    \n",
    "    'Omega_Lambda':0,\n",
    "    \n",
    "    'l_max_scalars':5000,\n",
    "    'w0_fld':-1+1e-2,\n",
    "    'fluid_equation_of_state': 'CLP',\n",
    "    'gauge':'newtonian',       \n",
    "    'use_ppf':False,\n",
    "\n",
    "\n",
    "\n",
    "'z_max_pk':1,\n",
    "'output':'tCl,lCl,mPk'\n",
    "\n",
    "}"
   ]
  },
  {
   "cell_type": "code",
   "execution_count": 12,
   "id": "14437177-6ab1-4643-bdb5-a821b1a68371",
   "metadata": {},
   "outputs": [],
   "source": [
    "lcdm_settings = {# LambdaCDM parameters/theta\n",
    "\n",
    "        'Gamma_DMDE':0,\n",
    "}\n",
    "M=Class()\n",
    "M.set(common_settings)\n",
    "M.set(lcdm_settings)\n",
    "\n",
    "M.compute()\n",
    "\n",
    "import numpy as np\n",
    "import matplotlib.pyplot as plt\n",
    "k=np.logspace(-4,np.log10(1),100)\n",
    "pk_lcdm= np.array(  [M.pk(kk,0)for kk in k])\n",
    "\n",
    "pk_lcdm_half= np.array( [M.pk(kk,1/2)for kk in k])\n",
    "pk_lcdm_one= np.array(  [M.pk(kk,1)for kk in k])\n"
   ]
  },
  {
   "cell_type": "code",
   "execution_count": 13,
   "id": "dfbd43e4-5146-4d31-bf24-c06e441b672d",
   "metadata": {},
   "outputs": [
    {
     "data": {
      "text/plain": [
       "<matplotlib.legend.Legend at 0x15550ec590d0>"
      ]
     },
     "execution_count": 13,
     "metadata": {},
     "output_type": "execute_result"
    },
    {
     "data": {
      "image/png": "[encoded data removed]",
      "text/plain": [
       "<Figure size 432x288 with 1 Axes>"
      ]
     },
     "metadata": {
      "needs_background": "light"
     },
     "output_type": "display_data"
    }
   ],
   "source": [
    "for gamma in [1]:\n",
    "    \n",
    "    gamma_settings = {\n",
    "\n",
    "\n",
    "        'Gamma_DMDE':gamma\n",
    "    }\n",
    "    \n",
    "    M=Class()\n",
    "    M.set(common_settings)\n",
    "    M.set(gamma_settings)\n",
    "    M.compute()\n",
    "\n",
    "    pk_a=  np.array([M.pk(kk,0)for kk in k])\n",
    "    plt.semilogx(k,np.array(pk_a-pk_lcdm)/np.array(pk_lcdm),label='z=0',color='black')\n",
    "    pk_a=  np.array([M.pk(kk,1/2)for kk in k])\n",
    "    plt.semilogx(k,np.array(pk_a-pk_lcdm_half)/np.array(pk_lcdm_half),label='z=0.5',color='red')\n",
    "    pk_a= np.array( [M.pk(kk,1)for kk in k])\n",
    "    plt.semilogx(k,np.array(pk_a-pk_lcdm_one)/np.array(pk_lcdm_one),label='z=1',color='blue')\n",
    "    \n",
    "plt.xlim(1e-4,10)\n",
    "plt.legend()\n",
    "\n"
   ]
  },
  {
   "cell_type": "code",
   "execution_count": null,
   "id": "39518b4e-88b5-407d-bd37-34f15729e651",
   "metadata": {},
   "outputs": [],
   "source": []
  },
  {
   "cell_type": "code",
   "execution_count": null,
   "id": "3a2961a5-e5cb-4715-96b3-1de5967343e1",
   "metadata": {},
   "outputs": [],
   "source": []
  },
  {
   "cell_type": "code",
   "execution_count": null,
   "id": "6ec20755-b59f-469c-83d2-8f69b97d8fa7",
   "metadata": {},
   "outputs": [],
   "source": []
  }
 ],
 "metadata": {
  "kernelspec": {
   "display_name": "classdmde",
   "language": "python",
   "name": "classdmde"
  },
  "language_info": {
   "codemirror_mode": {
    "name": "ipython",
    "version": 3
   },
   "file_extension": ".py",
   "mimetype": "text/x-python",
   "name": "python",
   "nbconvert_exporter": "python",
   "pygments_lexer": "ipython3",
   "version": "3.9.12"
  }
 },
 "nbformat": 4,
 "nbformat_minor": 5
}
