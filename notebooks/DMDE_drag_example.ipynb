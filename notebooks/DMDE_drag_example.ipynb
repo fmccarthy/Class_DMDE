{
 "cells": [
  {
   "cell_type": "code",
   "execution_count": 1,
   "id": "f6d8dfbe",
   "metadata": {},
   "outputs": [],
   "source": [
    "import sys\n",
    "import os\n"
   ]
  },
  {
   "cell_type": "code",
   "execution_count": 2,
   "id": "58505945",
   "metadata": {},
   "outputs": [],
   "source": [
    "from classy import Class\n",
    "import numpy as np\n"
   ]
  },
  {
   "cell_type": "code",
   "execution_count": 3,
   "id": "107af054",
   "metadata": {},
   "outputs": [
    {
     "data": {
      "text/plain": [
       "'/home/r/rbond/alague/.local/lib/python3.7/site-packages/classy.cpython-37m-x86_64-linux-gnu.so'"
      ]
     },
     "execution_count": 3,
     "metadata": {},
     "output_type": "execute_result"
    }
   ],
   "source": [
    "import classy\n",
    "classy.__file__"
   ]
  },
  {
   "cell_type": "code",
   "execution_count": 4,
   "id": "87302289",
   "metadata": {},
   "outputs": [],
   "source": [
    "\n",
    "lambda_settings = {# LambdaCDM parameters/theta\n",
    "\n",
    "                       '100*theta_s': 1.040909,\n",
    "                       'omega_b':0.022383,\n",
    "    'A_s':2.75e-09,\n",
    "    'Omega_Lambda':0.7,\n",
    "        'Omega_m': 0.3138,#0.3139,\n",
    "        #        'sigma8':0.773/np.sqrt((0.3144/0.3)),\n",
    "\n",
    "        'n_s':0.96605,\n",
    "        'tau_reio':0.0543,\n",
    "\n",
    "\n",
    "        'l_max_scalars':5000,\n",
    "\n",
    "\n",
    "\n",
    "    'z_max_pk':1,\n",
    "    'output':'tCl,lCl,mPk'\n",
    "\n",
    "    }\n",
    "M=Class()\n",
    "M.set(lambda_settings)\n",
    "\n",
    "M.compute()\n",
    "k=np.logspace(-4,np.log10(1),100)\n",
    "pk_lcdm= np.array(  [M.pk(kk,0)for kk in k])\n",
    "\n",
    "pk_lcdm_half= np.array( [M.pk(kk,1/2)for kk in k])\n",
    "pk_lcdm_one= np.array(  [M.pk(kk,1)for kk in k])"
   ]
  },
  {
   "cell_type": "code",
   "execution_count": null,
   "id": "8c1ca74c",
   "metadata": {},
   "outputs": [],
   "source": []
  },
  {
   "cell_type": "code",
   "execution_count": null,
   "id": "4161e81f",
   "metadata": {},
   "outputs": [],
   "source": []
  },
  {
   "cell_type": "code",
   "execution_count": null,
   "id": "783bed81",
   "metadata": {},
   "outputs": [],
   "source": [
    "#Digitized from https://arxiv.org/pdf/2209.06217.pdf to check if we reproduce them\n",
    "\n",
    "_z0=np.array([-3.928338299985809, -0.00303710798921528,\n",
    "-3.392058086183245, -0.0022780379357646395,\n",
    "-2.312343313939737, -0.003570609242703769,\n",
    "-1.7453762830518889, -0.024991367484981812,\n",
    "-1.480724658247007, -0.058675204578780574,\n",
    "-1.234284092521639, -0.10111359443734921,\n",
    "-0.8462939312236877, -0.15664159689702475,\n",
    "-0.20707393216971592, -0.17491929189726127,\n",
    "0.8126271226526676, -0.17403936663355565])\n",
    "_z12=np.array([-4.001182536303864, -0.0030553190482947926,\n",
    "-3.6637458019961207, -0.0014084598647178606,\n",
    "-2.888593254812922, -0.0030896717279220616,\n",
    "-2.3923418948961723, -0.0007781088879428785,\n",
    "-1.8223593964334697, -0.0031356132633272027,\n",
    "-1.615297289626791, -0.012458847736625533,\n",
    "-1.2543280828721421, -0.030181105434936878,\n",
    "-0.773686202166405, -0.05037344496476044,\n",
    "-0.17059268719549614, -0.05272267158601772,\n",
    "0.5843384891916195, -0.05253393879192095,\n",
    "0.9749302303580727, -0.05181129085662933\n",
    "])\n",
    "_z1=np.array([-4.021463033915141, -0.0008728891726976148,\n",
    "-3.4317321791779003, -0.002600456459013304,\n",
    "-2.3792748687384693, 0.00016265786859654546,\n",
    "-1.5108202071803598, -0.004620228466013926,\n",
    "-0.9324417009602186, -0.016350633839458895,\n",
    "0.5310652287025217, -0.01598475710704321,\n",
    "0.9084125632656948, -0.015265420273402427\n",
    "])"
   ]
  },
  {
   "cell_type": "code",
   "execution_count": 5,
   "id": "320eb300",
   "metadata": {},
   "outputs": [
    {
     "ename": "NameError",
     "evalue": "name '_z0' is not defined",
     "output_type": "error",
     "traceback": [
      "\u001b[0;31m---------------------------------------------------------------------------\u001b[0m",
      "\u001b[0;31mNameError\u001b[0m                                 Traceback (most recent call last)",
      "\u001b[0;32m/tmp/ipykernel_194616/3150079846.py\u001b[0m in \u001b[0;36m<module>\u001b[0;34m\u001b[0m\n\u001b[1;32m     67\u001b[0m     \u001b[0mplt\u001b[0m\u001b[0;34m.\u001b[0m\u001b[0mxlim\u001b[0m\u001b[0;34m(\u001b[0m\u001b[0;36m1e-4\u001b[0m\u001b[0;34m,\u001b[0m\u001b[0;36m10\u001b[0m\u001b[0;34m)\u001b[0m\u001b[0;34m\u001b[0m\u001b[0;34m\u001b[0m\u001b[0m\n\u001b[1;32m     68\u001b[0m     \u001b[0mplt\u001b[0m\u001b[0;34m.\u001b[0m\u001b[0mlegend\u001b[0m\u001b[0;34m(\u001b[0m\u001b[0;34m)\u001b[0m\u001b[0;34m\u001b[0m\u001b[0;34m\u001b[0m\u001b[0m\n\u001b[0;32m---> 69\u001b[0;31m \u001b[0mplt\u001b[0m\u001b[0;34m.\u001b[0m\u001b[0msemilogx\u001b[0m\u001b[0;34m(\u001b[0m\u001b[0;36m10\u001b[0m\u001b[0;34m**\u001b[0m\u001b[0m_z0\u001b[0m\u001b[0;34m[\u001b[0m\u001b[0;34m:\u001b[0m\u001b[0;34m:\u001b[0m\u001b[0;36m2\u001b[0m\u001b[0;34m]\u001b[0m\u001b[0;34m,\u001b[0m\u001b[0m_z0\u001b[0m\u001b[0;34m[\u001b[0m\u001b[0;36m1\u001b[0m\u001b[0;34m:\u001b[0m\u001b[0;34m:\u001b[0m\u001b[0;36m2\u001b[0m\u001b[0;34m]\u001b[0m\u001b[0;34m,\u001b[0m\u001b[0mls\u001b[0m\u001b[0;34m=\u001b[0m\u001b[0;34m'--'\u001b[0m\u001b[0;34m,\u001b[0m\u001b[0mcolor\u001b[0m\u001b[0;34m=\u001b[0m\u001b[0;34m'gray'\u001b[0m\u001b[0;34m)\u001b[0m\u001b[0;34m\u001b[0m\u001b[0;34m\u001b[0m\u001b[0m\n\u001b[0m\u001b[1;32m     70\u001b[0m \u001b[0mplt\u001b[0m\u001b[0;34m.\u001b[0m\u001b[0msemilogx\u001b[0m\u001b[0;34m(\u001b[0m\u001b[0;36m10\u001b[0m\u001b[0;34m**\u001b[0m\u001b[0m_z12\u001b[0m\u001b[0;34m[\u001b[0m\u001b[0;34m:\u001b[0m\u001b[0;34m:\u001b[0m\u001b[0;36m2\u001b[0m\u001b[0;34m]\u001b[0m\u001b[0;34m,\u001b[0m\u001b[0m_z12\u001b[0m\u001b[0;34m[\u001b[0m\u001b[0;36m1\u001b[0m\u001b[0;34m:\u001b[0m\u001b[0;34m:\u001b[0m\u001b[0;36m2\u001b[0m\u001b[0;34m]\u001b[0m\u001b[0;34m,\u001b[0m\u001b[0mls\u001b[0m\u001b[0;34m=\u001b[0m\u001b[0;34m'--'\u001b[0m\u001b[0;34m,\u001b[0m\u001b[0mcolor\u001b[0m\u001b[0;34m=\u001b[0m\u001b[0;34m'pink'\u001b[0m\u001b[0;34m)\u001b[0m\u001b[0;34m\u001b[0m\u001b[0;34m\u001b[0m\u001b[0m\n\u001b[1;32m     71\u001b[0m \u001b[0mplt\u001b[0m\u001b[0;34m.\u001b[0m\u001b[0msemilogx\u001b[0m\u001b[0;34m(\u001b[0m\u001b[0;36m10\u001b[0m\u001b[0;34m**\u001b[0m\u001b[0m_z1\u001b[0m\u001b[0;34m[\u001b[0m\u001b[0;34m:\u001b[0m\u001b[0;34m:\u001b[0m\u001b[0;36m2\u001b[0m\u001b[0;34m]\u001b[0m\u001b[0;34m,\u001b[0m\u001b[0m_z1\u001b[0m\u001b[0;34m[\u001b[0m\u001b[0;36m1\u001b[0m\u001b[0;34m:\u001b[0m\u001b[0;34m:\u001b[0m\u001b[0;36m2\u001b[0m\u001b[0;34m]\u001b[0m\u001b[0;34m,\u001b[0m\u001b[0mls\u001b[0m\u001b[0;34m=\u001b[0m\u001b[0;34m'--'\u001b[0m\u001b[0;34m,\u001b[0m\u001b[0mcolor\u001b[0m\u001b[0;34m=\u001b[0m\u001b[0;34m'lightblue'\u001b[0m\u001b[0;34m)\u001b[0m\u001b[0;34m\u001b[0m\u001b[0;34m\u001b[0m\u001b[0m\n",
      "\u001b[0;31mNameError\u001b[0m: name '_z0' is not defined"
     ]
    },
    {
     "data": {
      "image/png": "[encoded data removed]",
      "text/plain": [
       "<Figure size 432x288 with 1 Axes>"
      ]
     },
     "metadata": {
      "needs_background": "light"
     },
     "output_type": "display_data"
    }
   ],
   "source": [
    "pks_Gamma0={}\n",
    "for dw in [1e-4]:\n",
    "    common_settings = {# LambdaCDM parameters/theta\n",
    "\n",
    "                       '100*theta_s': 1.040909,\n",
    "                       'omega_b':0.022383,\n",
    "    'A_s':2.75e-09,\n",
    "        'Omega_m': 0.3138,#0.3139,\n",
    "        #        'sigma8':0.773/np.sqrt((0.3144/0.3)),\n",
    "\n",
    "        'n_s':0.96605,\n",
    "        'tau_reio':0.0543,\n",
    "\n",
    "\n",
    "        'Omega_Lambda':0,\n",
    "\n",
    "        'l_max_scalars':5000,\n",
    "        'w0_fld':-1+dw,\n",
    "        'fluid_equation_of_state': 'CLP',\n",
    "        'gauge':'newtonian',       \n",
    "        'use_ppf':False,\n",
    "\n",
    "\n",
    "\n",
    "    'z_max_pk':1,\n",
    "    'output':'tCl,lCl,mPk'\n",
    "\n",
    "    }\n",
    "    lcdm_settings = {# LambdaCDM parameters/theta\n",
    "\n",
    "            'Gamma_DMDE':0,\n",
    "    }\n",
    "    M=Class()\n",
    "    M.set(common_settings)\n",
    "    M.set(lcdm_settings)\n",
    "\n",
    "    M.compute()\n",
    "\n",
    "    import numpy as np\n",
    "    import matplotlib.pyplot as plt\n",
    "    k=np.logspace(-4,np.log10(1),100)\n",
    "    pk_lcdm= np.array(  [M.pk(kk,0)for kk in k])\n",
    "\n",
    "    pk_lcdm_half= np.array( [M.pk(kk,1/2)for kk in k])\n",
    "    pk_lcdm_one= np.array(  [M.pk(kk,1)for kk in k])\n",
    "    pks_Gamma0[dw]=[pk_lcdm,pk_lcdm_half,pk_lcdm_one]\n",
    "    for gamma in [1.17]:\n",
    "\n",
    "        gamma_settings = {\n",
    "\n",
    "\n",
    "            'Gamma_DMDE':gamma\n",
    "        }\n",
    "\n",
    "        M=Class()\n",
    "        M.set(common_settings)\n",
    "        M.set(gamma_settings)\n",
    "        M.compute()\n",
    "\n",
    "        pk_a=  np.array([M.pk(kk,0)for kk in k])\n",
    "        plt.semilogx(k,np.array(pk_a-pk_lcdm)/np.array(pk_lcdm),label='z=0',color='black')\n",
    "        pk_a=  np.array([M.pk(kk,1/2)for kk in k])\n",
    "        plt.semilogx(k,np.array(pk_a-pk_lcdm_half)/np.array(pk_lcdm_half),label='z=0.5',color='red')\n",
    "        pk_a= np.array( [M.pk(kk,1)for kk in k])\n",
    "        plt.semilogx(k,np.array(pk_a-pk_lcdm_one)/np.array(pk_lcdm_one),label='z=1',color='blue')\n",
    "\n",
    "    plt.xlim(1e-4,10)\n",
    "    plt.legend()\n",
    "plt.semilogx(10**_z0[::2],_z0[1::2],ls='--',color='gray')\n",
    "plt.semilogx(10**_z12[::2],_z12[1::2],ls='--',color='pink')\n",
    "plt.semilogx(10**_z1[::2],_z1[1::2],ls='--',color='lightblue')\n"
   ]
  },
  {
   "cell_type": "code",
   "execution_count": null,
   "id": "ee75afe9",
   "metadata": {},
   "outputs": [],
   "source": []
  },
  {
   "cell_type": "code",
   "execution_count": null,
   "id": "572b1007",
   "metadata": {},
   "outputs": [],
   "source": []
  },
  {
   "cell_type": "code",
   "execution_count": null,
   "id": "b7ff9fd5",
   "metadata": {},
   "outputs": [],
   "source": []
  },
  {
   "cell_type": "code",
   "execution_count": null,
   "id": "c61baabe",
   "metadata": {},
   "outputs": [],
   "source": []
  },
  {
   "cell_type": "code",
   "execution_count": null,
   "id": "b9f8dd1a",
   "metadata": {},
   "outputs": [],
   "source": []
  },
  {
   "cell_type": "code",
   "execution_count": null,
   "id": "db400954",
   "metadata": {},
   "outputs": [],
   "source": []
  },
  {
   "cell_type": "code",
   "execution_count": null,
   "id": "c2b6f80b",
   "metadata": {},
   "outputs": [],
   "source": []
  }
 ],
 "metadata": {
  "kernelspec": {
   "display_name": "Python 3 (ipykernel)",
   "language": "python",
   "name": "python3"
  },
  "language_info": {
   "codemirror_mode": {
    "name": "ipython",
    "version": 3
   },
   "file_extension": ".py",
   "mimetype": "text/x-python",
   "name": "python",
   "nbconvert_exporter": "python",
   "pygments_lexer": "ipython3",
   "version": "3.7.11"
  }
 },
 "nbformat": 4,
 "nbformat_minor": 5
}
