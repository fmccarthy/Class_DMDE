{
 "cells": [
  {
   "cell_type": "code",
   "execution_count": 1,
   "id": "a690a0c4-dd29-4400-b481-8aa8c0a6912d",
   "metadata": {},
   "outputs": [],
   "source": [
    "from classy import Class\n",
    "import numpy as np\n"
   ]
  },
  {
   "cell_type": "code",
   "execution_count": null,
   "id": "dff13844-4383-4f5a-b420-46d344a21f20",
   "metadata": {},
   "outputs": [],
   "source": []
  },
  {
   "cell_type": "code",
   "execution_count": null,
   "id": "97108b6e-98d0-4a99-987c-d1d96ab9af21",
   "metadata": {},
   "outputs": [],
   "source": [
    "M.sigma8()*np.sqrt(0.3138/0.3)"
   ]
  },
  {
   "cell_type": "code",
   "execution_count": 3,
   "id": "0428034a-d93c-4813-8bc3-8e743e6bd4b3",
   "metadata": {},
   "outputs": [],
   "source": [
    "\n",
    "lambda_settings = {# LambdaCDM parameters/theta\n",
    "\n",
    "                       '100*theta_s': 1.040909,\n",
    "                       'omega_b':0.022383,\n",
    "    'A_s':2.75e-09,\n",
    "        'Omega_m': 0.3138,#0.3139,\n",
    "        #        'sigma8':0.773/np.sqrt((0.3144/0.3)),\n",
    "\n",
    "        'n_s':0.96605,\n",
    "        'tau_reio':0.0543,\n",
    "\n",
    "\n",
    "        'l_max_scalars':5000,\n",
    "\n",
    "\n",
    "\n",
    "    'z_max_pk':1,\n",
    "    'output':'tCl,lCl,mPk'\n",
    "\n",
    "    }\n",
    "M=Class()\n",
    "M.set(lambda_settings)\n",
    "\n",
    "M.compute()\n",
    "k=np.logspace(-4,np.log10(1),100)\n",
    "pk_lcdm= np.array(  [M.pk(kk,0)for kk in k])\n",
    "\n",
    "pk_lcdm_half= np.array( [M.pk(kk,1/2)for kk in k])\n",
    "pk_lcdm_one= np.array(  [M.pk(kk,1)for kk in k])"
   ]
  },
  {
   "cell_type": "code",
   "execution_count": null,
   "id": "7e2ec913-a217-4100-87d4-b04d0d6f3d9c",
   "metadata": {},
   "outputs": [],
   "source": []
  },
  {
   "cell_type": "code",
   "execution_count": null,
   "id": "e41d3520-6d84-45ed-84bb-da7f7abc8909",
   "metadata": {},
   "outputs": [],
   "source": []
  },
  {
   "cell_type": "code",
   "execution_count": 11,
   "id": "8454d554-d56e-4df9-ae7e-fe25f438e284",
   "metadata": {},
   "outputs": [],
   "source": [
    "#Digitized from https://arxiv.org/pdf/2209.06217.pdf to check if we reproduce them\n",
    "\n",
    "_z0=np.array([-3.928338299985809, -0.00303710798921528,\n",
    "-3.392058086183245, -0.0022780379357646395,\n",
    "-2.312343313939737, -0.003570609242703769,\n",
    "-1.7453762830518889, -0.024991367484981812,\n",
    "-1.480724658247007, -0.058675204578780574,\n",
    "-1.234284092521639, -0.10111359443734921,\n",
    "-0.8462939312236877, -0.15664159689702475,\n",
    "-0.20707393216971592, -0.17491929189726127,\n",
    "0.8126271226526676, -0.17403936663355565])\n",
    "_z12=np.array([-4.001182536303864, -0.0030553190482947926,\n",
    "-3.6637458019961207, -0.0014084598647178606,\n",
    "-2.888593254812922, -0.0030896717279220616,\n",
    "-2.3923418948961723, -0.0007781088879428785,\n",
    "-1.8223593964334697, -0.0031356132633272027,\n",
    "-1.615297289626791, -0.012458847736625533,\n",
    "-1.2543280828721421, -0.030181105434936878,\n",
    "-0.773686202166405, -0.05037344496476044,\n",
    "-0.17059268719549614, -0.05272267158601772,\n",
    "0.5843384891916195, -0.05253393879192095,\n",
    "0.9749302303580727, -0.05181129085662933\n",
    "])\n",
    "_z1=np.array([-4.021463033915141, -0.0008728891726976148,\n",
    "-3.4317321791779003, -0.002600456459013304,\n",
    "-2.3792748687384693, 0.00016265786859654546,\n",
    "-1.5108202071803598, -0.004620228466013926,\n",
    "-0.9324417009602186, -0.016350633839458895,\n",
    "0.5310652287025217, -0.01598475710704321,\n",
    "0.9084125632656948, -0.015265420273402427\n",
    "])"
   ]
  },
  {
   "cell_type": "code",
   "execution_count": 10,
   "id": "f17aed4b-e441-4a8d-80e6-2a92633785ed",
   "metadata": {},
   "outputs": [
    {
     "data": {
      "text/plain": [
       "[<matplotlib.lines.Line2D at 0x15550f4528b0>]"
      ]
     },
     "execution_count": 10,
     "metadata": {},
     "output_type": "execute_result"
    },
    {
     "data": {
      "image/png": "[encoded data removed]",
      "text/plain": [
       "<Figure size 432x288 with 1 Axes>"
      ]
     },
     "metadata": {
      "needs_background": "light"
     },
     "output_type": "display_data"
    }
   ],
   "source": [
    "pks_Gamma0={}\n",
    "for dw in [1e-4]:\n",
    "    common_settings = {# LambdaCDM parameters/theta\n",
    "\n",
    "                       '100*theta_s': 1.040909,\n",
    "                       'omega_b':0.022383,\n",
    "    'A_s':2.75e-09,\n",
    "        'Omega_m': 0.3138,#0.3139,\n",
    "        #        'sigma8':0.773/np.sqrt((0.3144/0.3)),\n",
    "\n",
    "        'n_s':0.96605,\n",
    "        'tau_reio':0.0543,\n",
    "\n",
    "\n",
    "        'Omega_Lambda':0,\n",
    "\n",
    "        'l_max_scalars':5000,\n",
    "        'w0_fld':-1+dw,\n",
    "        'fluid_equation_of_state': 'CLP',\n",
    "        'gauge':'newtonian',       \n",
    "        'use_ppf':False,\n",
    "\n",
    "\n",
    "\n",
    "    'z_max_pk':1,\n",
    "    'output':'tCl,lCl,mPk'\n",
    "\n",
    "    }\n",
    "    lcdm_settings = {# LambdaCDM parameters/theta\n",
    "\n",
    "            'Gamma_DMDE':0,\n",
    "    }\n",
    "    M=Class()\n",
    "    M.set(common_settings)\n",
    "    M.set(lcdm_settings)\n",
    "\n",
    "    M.compute()\n",
    "\n",
    "    import numpy as np\n",
    "    import matplotlib.pyplot as plt\n",
    "    k=np.logspace(-4,np.log10(1),100)\n",
    "    pk_lcdm= np.array(  [M.pk(kk,0)for kk in k])\n",
    "\n",
    "    pk_lcdm_half= np.array( [M.pk(kk,1/2)for kk in k])\n",
    "    pk_lcdm_one= np.array(  [M.pk(kk,1)for kk in k])\n",
    "    pks_Gamma0[dw]=[pk_lcdm,pk_lcdm_half,pk_lcdm_one]\n",
    "    for gamma in [1.17]:\n",
    "\n",
    "        gamma_settings = {\n",
    "\n",
    "\n",
    "            'Gamma_DMDE':gamma\n",
    "        }\n",
    "\n",
    "        M=Class()\n",
    "        M.set(common_settings)\n",
    "        M.set(gamma_settings)\n",
    "        M.compute()\n",
    "\n",
    "        pk_a=  np.array([M.pk(kk,0)for kk in k])\n",
    "        plt.semilogx(k,np.array(pk_a-pk_lcdm)/np.array(pk_lcdm),label='z=0',color='black')\n",
    "        pk_a=  np.array([M.pk(kk,1/2)for kk in k])\n",
    "        plt.semilogx(k,np.array(pk_a-pk_lcdm_half)/np.array(pk_lcdm_half),label='z=0.5',color='red')\n",
    "        pk_a= np.array( [M.pk(kk,1)for kk in k])\n",
    "        plt.semilogx(k,np.array(pk_a-pk_lcdm_one)/np.array(pk_lcdm_one),label='z=1',color='blue')\n",
    "\n",
    "    plt.xlim(1e-4,10)\n",
    "    plt.legend()\n",
    "plt.semilogx(10**_z0[::2],_z0[1::2],ls='--',color='gray')\n",
    "plt.semilogx(10**_z12[::2],_z12[1::2],ls='--',color='pink')\n",
    "plt.semilogx(10**_z1[::2],_z1[1::2],ls='--',color='lightblue')\n"
   ]
  },
  {
   "cell_type": "code",
   "execution_count": null,
   "id": "0f7fde86-9395-4a23-8078-fa5172faf004",
   "metadata": {},
   "outputs": [],
   "source": []
  },
  {
   "cell_type": "code",
   "execution_count": null,
   "id": "14437177-6ab1-4643-bdb5-a821b1a68371",
   "metadata": {},
   "outputs": [],
   "source": []
  },
  {
   "cell_type": "code",
   "execution_count": null,
   "id": "dfbd43e4-5146-4d31-bf24-c06e441b672d",
   "metadata": {},
   "outputs": [],
   "source": []
  },
  {
   "cell_type": "code",
   "execution_count": null,
   "id": "39518b4e-88b5-407d-bd37-34f15729e651",
   "metadata": {},
   "outputs": [],
   "source": []
  },
  {
   "cell_type": "code",
   "execution_count": null,
   "id": "3a2961a5-e5cb-4715-96b3-1de5967343e1",
   "metadata": {},
   "outputs": [],
   "source": []
  },
  {
   "cell_type": "code",
   "execution_count": null,
   "id": "6ec20755-b59f-469c-83d2-8f69b97d8fa7",
   "metadata": {},
   "outputs": [],
   "source": []
  },
  {
   "cell_type": "code",
   "execution_count": null,
   "id": "a1de503a-3e1f-4e07-8977-8a8b1b860211",
   "metadata": {},
   "outputs": [],
   "source": []
  }
 ],
 "metadata": {
  "kernelspec": {
   "display_name": "classdmde",
   "language": "python",
   "name": "classdmde"
  },
  "language_info": {
   "codemirror_mode": {
    "name": "ipython",
    "version": 3
   },
   "file_extension": ".py",
   "mimetype": "text/x-python",
   "name": "python",
   "nbconvert_exporter": "python",
   "pygments_lexer": "ipython3",
   "version": "3.9.12"
  }
 },
 "nbformat": 4,
 "nbformat_minor": 5
}
